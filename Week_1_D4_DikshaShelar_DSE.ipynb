{
  "nbformat": 4,
  "nbformat_minor": 0,
  "metadata": {
    "colab": {
      "provenance": [],
      "authorship_tag": "ABX9TyNzkGq7ROjyROygy5EMh3/+",
      "include_colab_link": true
    },
    "kernelspec": {
      "name": "python3",
      "display_name": "Python 3"
    },
    "language_info": {
      "name": "python"
    }
  },
  "cells": [
    {
      "cell_type": "markdown",
      "metadata": {
        "id": "view-in-github",
        "colab_type": "text"
      },
      "source": [
        "<a href=\"https://colab.research.google.com/github/DikshaShelar56/CoffeeShop_Management_System/blob/main/Week_1_D4_DikshaShelar_DSE.ipynb\" target=\"_parent\"><img src=\"https://colab.research.google.com/assets/colab-badge.svg\" alt=\"Open In Colab\"/></a>"
      ]
    },
    {
      "cell_type": "code",
      "execution_count": 3,
      "metadata": {
        "colab": {
          "base_uri": "https://localhost:8080/",
          "height": 0
        },
        "id": "aq1aXruiuE01",
        "outputId": "3b473b72-d231-4338-d66f-eafcf5cbc73e"
      },
      "outputs": [
        {
          "output_type": "stream",
          "name": "stdout",
          "text": [
            "Enter first number: 200\n",
            "Enter second number: 50\n",
            "First Number= 200 Second Number= 50\n",
            "Addition of 200 and 50 = 250\n",
            "Subtraction of 200 and 50 = 150\n",
            "Multiplication of 200 and 50 = 10000\n",
            "Division of 200 and 50 = 4.0\n"
          ]
        }
      ],
      "source": [
        "# 1. Write a Python program to perform basic arithmetic operations.\n",
        "\n",
        "a = int(input(\"Enter first number: \"))        # taking input for first number\n",
        "b = int(input(\"Enter second number: \"))       # taking input for second number\n",
        "print(\"First Number=\", a,\"Second Number=\",b)  # printing values\n",
        "\n",
        "#performing the operations\n",
        "print(\"Addition of\",a, \"and\",b,\"=\", a + b)\n",
        "print(\"Subtraction of\",a, \"and\",b,\"=\", a - b)\n",
        "print(\"Multiplication of\",a, \"and\",b,\"=\", a * b)\n",
        "print(\"Division of\",a, \"and\",b,\"=\", a / b)"
      ]
    },
    {
      "cell_type": "code",
      "source": [
        "# 2. Create a program that takes input and displays its data type.\n",
        "\n",
        "var = input(\"Enter something: \")    # taking user input\n",
        "print(\"Data type is:\", type(var))   # displaying its data type"
      ],
      "metadata": {
        "colab": {
          "base_uri": "https://localhost:8080/",
          "height": 0
        },
        "id": "PI6oEQoZ0QsP",
        "outputId": "b6d1e12d-b065-4a51-d4c6-26e561f51896"
      },
      "execution_count": 4,
      "outputs": [
        {
          "output_type": "stream",
          "name": "stdout",
          "text": [
            "Enter something: Diksha\n",
            "Data type is: <class 'str'>\n"
          ]
        }
      ]
    },
    {
      "cell_type": "code",
      "source": [
        "# 3. Write a program to swap two variables using a third variable.\n",
        "\n",
        "a = input(\"Enter first value: \")        # taking user input\n",
        "b = input(\"Enter second value: \")       # taking user input\n",
        "print(\"Before swap: a =\", a, \"b =\", b)  # printing values\n",
        "temp = a   # assigning value of a to temp variable\n",
        "a = b      # assigning value of b to a\n",
        "b = temp   # assigning value of temp to b\n",
        "print(\"After swap: a =\", a, \"b =\", b)   # displaying swapped values"
      ],
      "metadata": {
        "colab": {
          "base_uri": "https://localhost:8080/",
          "height": 0
        },
        "id": "DZptxOS41RWI",
        "outputId": "47ac3461-0129-4a62-fef4-17a3dfb330fc"
      },
      "execution_count": 5,
      "outputs": [
        {
          "output_type": "stream",
          "name": "stdout",
          "text": [
            "Enter first value: Diksha\n",
            "Enter second value: Shelar\n",
            "Before swap: a = Diksha b = Shelar\n",
            "After swap: a = Shelar b = Diksha\n"
          ]
        }
      ]
    },
    {
      "cell_type": "code",
      "source": [
        "# 4. Convert Celsius to Fahrenheit using a user-defined formula.\n",
        "\n",
        "cel = float(input(\"Enter Temperature Value in Celsius: \"))\n",
        "fah = (cel * 9/5) + 32  # applying formula\n",
        "print(\"Given Temperature in Fahrenheit:\", fah)"
      ],
      "metadata": {
        "colab": {
          "base_uri": "https://localhost:8080/",
          "height": 0
        },
        "id": "2tBnB-8w16at",
        "outputId": "77f3670e-06bf-45a4-d2c3-61542d11ee9d"
      },
      "execution_count": 6,
      "outputs": [
        {
          "output_type": "stream",
          "name": "stdout",
          "text": [
            "Enter Temperature Value in Celsius: 26\n",
            "Given Temperature in Fahrenheit: 78.8\n"
          ]
        }
      ]
    },
    {
      "cell_type": "code",
      "source": [
        "# 5. Check whether a number is even or odd.\n",
        "\n",
        "num= int(input(\"Enter a number: \")) # taking user input\n",
        "# Odd Even checking\n",
        "print(num,\"is an Even Number\" if num % 2 == 0 else \"is an Odd Number\")"
      ],
      "metadata": {
        "colab": {
          "base_uri": "https://localhost:8080/",
          "height": 0
        },
        "id": "zfpZMQXs29_k",
        "outputId": "093900ec-a4eb-4100-d594-f01048e3d3a5"
      },
      "execution_count": 9,
      "outputs": [
        {
          "output_type": "stream",
          "name": "stdout",
          "text": [
            "Enter a number: 7\n",
            "7 is an Odd Number\n"
          ]
        }
      ]
    },
    {
      "cell_type": "code",
      "source": [
        "# 6. Determine if a number is positive, negative, or zero.\n",
        "\n",
        "num= int(input(\"Enter a number: \")) # taking user input\n",
        "# applying conditions\n",
        "if num > 0:\n",
        "  print(num,\"is a Positive Number\")\n",
        "elif num < 0:\n",
        "  print(num,\"is a Negative Number\")\n",
        "else:\n",
        "  print(num,\"is a Zero\")"
      ],
      "metadata": {
        "colab": {
          "base_uri": "https://localhost:8080/",
          "height": 0
        },
        "id": "Lj2C4SD-5k-D",
        "outputId": "6f1a69ec-add0-43f7-fe8b-fe204d575010"
      },
      "execution_count": 10,
      "outputs": [
        {
          "output_type": "stream",
          "name": "stdout",
          "text": [
            "Enter a number: 56\n",
            "56 is a Positive Number\n"
          ]
        }
      ]
    },
    {
      "cell_type": "code",
      "source": [
        "# 7. Calculate the area of a circle given its radius.\n",
        "\n",
        "radius = float(input(\"Enter radius: \")) # taking user input\n",
        "area = 3.14159 * radius * radius        # applying formula\n",
        "print(\"Area of the Circle:\", area)"
      ],
      "metadata": {
        "colab": {
          "base_uri": "https://localhost:8080/",
          "height": 0
        },
        "id": "Xztmxs9Z62Di",
        "outputId": "afe79a56-fc98-4a95-d52e-543834b69975"
      },
      "execution_count": 11,
      "outputs": [
        {
          "output_type": "stream",
          "name": "stdout",
          "text": [
            "Enter radius: 5\n",
            "Area of the Circle: 78.53975\n"
          ]
        }
      ]
    },
    {
      "cell_type": "code",
      "source": [
        "# 8. Display a multiplication table for any number using loops.\n",
        "\n",
        "num = int(input(\"Enter a number: \")) # taking user input\n",
        "# using for loop\n",
        "for i in range(1,11):\n",
        "    print(num, \"x\", i, \"=\", num * i)"
      ],
      "metadata": {
        "colab": {
          "base_uri": "https://localhost:8080/",
          "height": 0
        },
        "id": "71Ltfwsv8iPB",
        "outputId": "abb6c8f6-f5f7-4054-b602-40bbb690668d"
      },
      "execution_count": 12,
      "outputs": [
        {
          "output_type": "stream",
          "name": "stdout",
          "text": [
            "Enter a number: 19\n",
            "19 x 1 = 19\n",
            "19 x 2 = 38\n",
            "19 x 3 = 57\n",
            "19 x 4 = 76\n",
            "19 x 5 = 95\n",
            "19 x 6 = 114\n",
            "19 x 7 = 133\n",
            "19 x 8 = 152\n",
            "19 x 9 = 171\n",
            "19 x 10 = 190\n"
          ]
        }
      ]
    },
    {
      "cell_type": "code",
      "source": [
        "# 9. Create a program to print the first 10 natural numbers using a loop.\n",
        "\n",
        "# using for loop\n",
        "for i in range(1, 11):\n",
        "    print(i, end=\" \")"
      ],
      "metadata": {
        "colab": {
          "base_uri": "https://localhost:8080/",
          "height": 0
        },
        "id": "wtSn-w7W88Pb",
        "outputId": "7d788d52-b34f-4eb0-83e4-014d2b9c4cf5"
      },
      "execution_count": 13,
      "outputs": [
        {
          "output_type": "stream",
          "name": "stdout",
          "text": [
            "1 2 3 4 5 6 7 8 9 10 "
          ]
        }
      ]
    },
    {
      "cell_type": "code",
      "source": [
        "# 10. Write a program to check if a number is divisible by 3 and 5.\n",
        "\n",
        "num = int(input(\"Enter number: \")) # taking user input\n",
        "if num % 3 == 0 and num % 5 == 0:  # checking divisibility using 'and' operator\n",
        "    print(num,\"is Divisible by 3 and 5\")\n",
        "else:\n",
        "    print(num,\"is Not divisible by both\")"
      ],
      "metadata": {
        "colab": {
          "base_uri": "https://localhost:8080/",
          "height": 0
        },
        "id": "gstA-qWH9d7R",
        "outputId": "a5bbaa64-396d-4245-bcb7-a53ac7a2dade"
      },
      "execution_count": 15,
      "outputs": [
        {
          "output_type": "stream",
          "name": "stdout",
          "text": [
            "Enter number: 15\n",
            "15 is Divisible by 3 and 5\n"
          ]
        }
      ]
    },
    {
      "cell_type": "code",
      "source": [
        "# 11. Print all prime numbers in a range entered by the user.\n",
        "\n",
        "start = int(input(\"Enter start: \"))   # input start\n",
        "end = int(input(\"Enter end: \"))       # input end\n",
        "for num in range(start, end+1):       # loop from start to end\n",
        "    if num > 1:\n",
        "        for i in range(2, num):       # checking factors\n",
        "            if num % i == 0:          # if divisible\n",
        "                break                 # not prime\n",
        "        else:\n",
        "            print(num, end=\" \")       # printing prime number"
      ],
      "metadata": {
        "colab": {
          "base_uri": "https://localhost:8080/",
          "height": 0
        },
        "id": "pDPa9su3-yPx",
        "outputId": "073a07da-7eb7-4c26-b3b1-363f6272c267"
      },
      "execution_count": 16,
      "outputs": [
        {
          "output_type": "stream",
          "name": "stdout",
          "text": [
            "Enter start: 1\n",
            "Enter end: 50\n",
            "2 3 5 7 11 13 17 19 23 29 31 37 41 43 47 "
          ]
        }
      ]
    },
    {
      "cell_type": "code",
      "source": [
        "# 12. Accept age and print whether the user is eligible to vote.\n",
        "\n",
        "age = int(input(\"Enter your age: \"))    # taking input age\n",
        "# checking condition\n",
        "if age >= 18:\n",
        "  print(\"You are eligible to vote\")\n",
        "else:\n",
        "  print(\"You are not eligible to vote\")"
      ],
      "metadata": {
        "colab": {
          "base_uri": "https://localhost:8080/",
          "height": 0
        },
        "id": "nDg1Xj-JAFJB",
        "outputId": "148e0a4f-99d8-409e-b8f2-74cc1c5d3d11"
      },
      "execution_count": 17,
      "outputs": [
        {
          "output_type": "stream",
          "name": "stdout",
          "text": [
            "Enter your age: 19\n",
            "You are eligible to vote\n"
          ]
        }
      ]
    },
    {
      "cell_type": "code",
      "source": [
        "# 13. Write a program to find the sum of digits of a number.\n",
        "\n",
        "num = int(input(\"Enter number: \"))   # taking user input\n",
        "sum = 0                              # initialize sum\n",
        "while num > 0:                       # loop until number becomes 0\n",
        "    sum += num % 10                  # get last digit and add\n",
        "    num //= 10                       # remove last digit\n",
        "print(\"Sum of digits:\", sum)"
      ],
      "metadata": {
        "colab": {
          "base_uri": "https://localhost:8080/",
          "height": 0
        },
        "id": "s_QqQbiMBEGn",
        "outputId": "9c2dc10d-6dc1-464c-9a15-525c4251eb10"
      },
      "execution_count": 18,
      "outputs": [
        {
          "output_type": "stream",
          "name": "stdout",
          "text": [
            "Enter number: 123456\n",
            "Sum of digits: 21\n"
          ]
        }
      ]
    },
    {
      "cell_type": "code",
      "source": [
        "# 14.Display whether a year is a leap year or not.\n",
        "\n",
        "year = int(input(\"Enter year: \"))    # input year\n",
        "if (year % 4 == 0 and year % 100 != 0) or (year % 400 == 0): # leap year logic\n",
        "    print(\"Leap Year\")\n",
        "else:\n",
        "    print(\"Not Leap Year\")"
      ],
      "metadata": {
        "colab": {
          "base_uri": "https://localhost:8080/",
          "height": 0
        },
        "id": "XfpARAPRBzdW",
        "outputId": "dea533f1-d299-4712-d1fb-f49223002e32"
      },
      "execution_count": 20,
      "outputs": [
        {
          "output_type": "stream",
          "name": "stdout",
          "text": [
            "Enter year: 2020\n",
            "Leap Year\n"
          ]
        }
      ]
    },
    {
      "cell_type": "code",
      "source": [
        "# 15. Take three numbers and print the largest one.\n",
        "\n",
        "a = int(input(\"Enter First number: \"))\n",
        "b = int(input(\"Enter Second number: \"))\n",
        "c = int(input(\"Enter Third number: \"))\n",
        "print(\"Largest:\", max(a, b, c))   # using max() function"
      ],
      "metadata": {
        "colab": {
          "base_uri": "https://localhost:8080/",
          "height": 0
        },
        "id": "OR5qV290RdSj",
        "outputId": "46eb585e-b6f3-4845-f392-d2bedf1270d4"
      },
      "execution_count": 21,
      "outputs": [
        {
          "output_type": "stream",
          "name": "stdout",
          "text": [
            "Enter First number: 10\n",
            "Enter Second number: 20\n",
            "Enter Third number: 30\n",
            "Largest: 30\n"
          ]
        }
      ]
    },
    {
      "cell_type": "code",
      "source": [
        "# 16. Calculate the square root of a number using exponentiation.\n",
        "\n",
        "num = float(input(\"Enter a number: \"))          # taking user input\n",
        "print(\"Square root of\",num,\"=\", num ** 0.5)     # power of 0.5 = square root"
      ],
      "metadata": {
        "colab": {
          "base_uri": "https://localhost:8080/",
          "height": 0
        },
        "id": "vQgECWztSVKA",
        "outputId": "774fa7da-c43c-4adc-8636-0a617b8aaf01"
      },
      "execution_count": 26,
      "outputs": [
        {
          "output_type": "stream",
          "name": "stdout",
          "text": [
            "Enter a number: 4\n",
            "Square root of 4.0 = 2.0\n"
          ]
        }
      ]
    },
    {
      "cell_type": "code",
      "source": [
        "# 17. Write a program that adds two numbers entered by the user.\n",
        "\n",
        "a = float(input(\"Enter first number: \"))   # taking user input\n",
        "b = float(input(\"Enter second number: \"))  # taking user input\n",
        "print(\"Sum =\", a + b)"
      ],
      "metadata": {
        "colab": {
          "base_uri": "https://localhost:8080/",
          "height": 0
        },
        "id": "41s9kNS5Urdz",
        "outputId": "970056a4-64fb-45db-adfc-ddfa1e292956"
      },
      "execution_count": 27,
      "outputs": [
        {
          "output_type": "stream",
          "name": "stdout",
          "text": [
            "Enter first number: 10.23\n",
            "Enter second number: 26.10\n",
            "Sum = 36.33\n"
          ]
        }
      ]
    },
    {
      "cell_type": "code",
      "source": [
        "# 18. Convert seconds into hours, minutes, and seconds.\n",
        "\n",
        "sec = int(input(\"Enter seconds: \"))      # taking user input\n",
        "hrs = sec // 3600                        # hours = total seconds ÷ 3600\n",
        "min = (sec % 3600) // 60                 # minutes = remaining seconds ÷ 60\n",
        "sec = sec % 60                           # leftover seconds\n",
        "print(\"Hours= \",hrs,\"Minutes= \",min,\"Seconds= \",sec)"
      ],
      "metadata": {
        "colab": {
          "base_uri": "https://localhost:8080/",
          "height": 0
        },
        "id": "QJOdyHhrVH7I",
        "outputId": "d408e6c8-2e65-4486-e34c-5cb30cec1c15"
      },
      "execution_count": 29,
      "outputs": [
        {
          "output_type": "stream",
          "name": "stdout",
          "text": [
            "Enter seconds: 999999999999999999999\n",
            "Hours=  277777777777777777 Minutes=  46 Seconds=  39\n"
          ]
        }
      ]
    },
    {
      "cell_type": "code",
      "source": [
        "# 19. Write a simple calculator program using if-elif-else.\n",
        "\n",
        "a = float(input(\"Enter first number: \"))       # taking first input\n",
        "b = float(input(\"Enter second number: \"))      # taking second input\n",
        "op = input(\"Enter operator (+,-,*,/): \")       # operator input\n",
        "if op == '+':                                  # check operator\n",
        "    print(a,\"+\",b,\"= \", a + b)\n",
        "elif op == '-':\n",
        "    print(a,\"-\",b,\"= \", a - b)\n",
        "elif op == '*':\n",
        "    print(a,\"*\",b,\"= \", a * b)\n",
        "elif op == '/':\n",
        "    print(a,\"/\",b,\"= \", a / b)\n",
        "else:\n",
        "    print(\"Invalid operator\")"
      ],
      "metadata": {
        "colab": {
          "base_uri": "https://localhost:8080/",
          "height": 0
        },
        "id": "ctXZOIb-WGE1",
        "outputId": "a2a9453a-51c9-40e1-f2ec-7fa31c1692de"
      },
      "execution_count": 31,
      "outputs": [
        {
          "output_type": "stream",
          "name": "stdout",
          "text": [
            "Enter first number: 265\n",
            "Enter second number: 45\n",
            "Enter operator (+,-,*,/): *\n",
            "265.0 * 45.0 =  11925.0\n"
          ]
        }
      ]
    },
    {
      "cell_type": "code",
      "source": [
        "# 20. Display the ASCII value of a given character.\n",
        "\n",
        "char = input(\"Enter a character: \")  # input character\n",
        "print(\"ASCII value:\", ord(char))     # ord() gives ASCII"
      ],
      "metadata": {
        "colab": {
          "base_uri": "https://localhost:8080/",
          "height": 0
        },
        "id": "rm2g2E7kW1VV",
        "outputId": "41f381c7-acd3-40a5-d3d4-992909f3bd08"
      },
      "execution_count": 33,
      "outputs": [
        {
          "output_type": "stream",
          "name": "stdout",
          "text": [
            "Enter a character: A\n",
            "ASCII value: 65\n"
          ]
        }
      ]
    },
    {
      "cell_type": "code",
      "source": [
        "# 21. Write a program to reverse a number using loops.\n",
        "\n",
        "num = int(input(\"Enter a number: \"))  # input number\n",
        "rev = 0                               # initialize reversed number\n",
        "while num > 0:                        # loop until number becomes 0\n",
        "    rev = rev * 10 + num % 10         # add last digit to reverse\n",
        "    num //= 10                        # remove last digit\n",
        "print(\"Reversed Number= \", rev)"
      ],
      "metadata": {
        "colab": {
          "base_uri": "https://localhost:8080/",
          "height": 0
        },
        "id": "-SOWT6RzXHkv",
        "outputId": "05d7a7b2-9e56-4540-c29e-d4ddda04d178"
      },
      "execution_count": 34,
      "outputs": [
        {
          "output_type": "stream",
          "name": "stdout",
          "text": [
            "Enter a number: 123456789\n",
            "Reversed Number=  987654321\n"
          ]
        }
      ]
    },
    {
      "cell_type": "code",
      "source": [
        "# 22. Accept a string and print its first and last character.\n",
        "\n",
        "str = input(\"Enter a string: \")  # input string\n",
        "print(\"First character:\", str[0])\n",
        "print(\"Last character:\", str[-1])"
      ],
      "metadata": {
        "colab": {
          "base_uri": "https://localhost:8080/",
          "height": 0
        },
        "id": "KRICY1ptXnyj",
        "outputId": "006cb58a-9434-411a-991e-a00de75b4441"
      },
      "execution_count": 35,
      "outputs": [
        {
          "output_type": "stream",
          "name": "stdout",
          "text": [
            "Enter a string: Diksha\n",
            "First character: D\n",
            "Last character: a\n"
          ]
        }
      ]
    },
    {
      "cell_type": "code",
      "source": [
        "# 23. Concatenate two strings using user input.\n",
        "\n",
        "s1 = input(\"Enter First string: \")     # input first string\n",
        "s2 = input(\"Enter Second string: \")    # input second string\n",
        "print(\"Concatenated:\", s1 + s2)        # joining strings using + operator"
      ],
      "metadata": {
        "colab": {
          "base_uri": "https://localhost:8080/",
          "height": 0
        },
        "id": "SIwPnlnKX6U8",
        "outputId": "082b6c36-782c-48f7-e8fc-83103d3edbe7"
      },
      "execution_count": 36,
      "outputs": [
        {
          "output_type": "stream",
          "name": "stdout",
          "text": [
            "Enter First string: Diksha\n",
            "Enter Second string: Shelar\n",
            "Concatenated: DikshaShelar\n"
          ]
        }
      ]
    },
    {
      "cell_type": "code",
      "source": [
        "# 24. Write a program to repeat a string 10 times using a loop.\n",
        "\n",
        "str = input(\"Enter a string: \")  # input string\n",
        "for i in range(10):              # repeat loop 10 times\n",
        "    print(str)"
      ],
      "metadata": {
        "colab": {
          "base_uri": "https://localhost:8080/",
          "height": 0
        },
        "id": "HCFx86jRYTYg",
        "outputId": "4f19d4ff-344b-40fd-de3a-d2af72af0441"
      },
      "execution_count": 37,
      "outputs": [
        {
          "output_type": "stream",
          "name": "stdout",
          "text": [
            "Enter a string: Hello\n",
            "Hello\n",
            "Hello\n",
            "Hello\n",
            "Hello\n",
            "Hello\n",
            "Hello\n",
            "Hello\n",
            "Hello\n",
            "Hello\n",
            "Hello\n"
          ]
        }
      ]
    },
    {
      "cell_type": "code",
      "source": [
        "# 25. Take a string and print its length using len().\n",
        "\n",
        "str = input(\"Enter a string: \")         # input string\n",
        "print(\"Length of\",\"'\",str,\"'\",\"= \", len(str))   # len() returns length"
      ],
      "metadata": {
        "colab": {
          "base_uri": "https://localhost:8080/",
          "height": 0
        },
        "id": "Fpf_cs1lY05h",
        "outputId": "d00f7c7f-848a-4257-f16b-81dcd6da6aa1"
      },
      "execution_count": 39,
      "outputs": [
        {
          "output_type": "stream",
          "name": "stdout",
          "text": [
            "Enter a string: Diksha\n",
            "Length of ' Diksha ' =  6\n"
          ]
        }
      ]
    },
    {
      "cell_type": "code",
      "source": [
        "# 26. Accept marks and print corresponding grade using conditions.\n",
        "\n",
        "marks = int(input(\"Enter your marks: \"))   # input marks\n",
        "# check conditions\n",
        "if marks > 100:\n",
        "    print(\"Invalid marks\")\n",
        "elif marks >= 90:\n",
        "    print(\"Grade: A\")\n",
        "elif marks >= 75:\n",
        "    print(\"Grade: B\")\n",
        "elif marks >= 50:\n",
        "    print(\"Grade: C\")\n",
        "else:\n",
        "    print(\"Grade: F\")"
      ],
      "metadata": {
        "colab": {
          "base_uri": "https://localhost:8080/",
          "height": 0
        },
        "id": "GqJGxU6fZY-M",
        "outputId": "160e525d-e90a-4dfb-803d-a57f7a1586ae"
      },
      "execution_count": 40,
      "outputs": [
        {
          "output_type": "stream",
          "name": "stdout",
          "text": [
            "Enter your marks: 96\n",
            "Grade: A\n"
          ]
        }
      ]
    },
    {
      "cell_type": "code",
      "source": [
        "# 27. Check if a number is a multiple of 4 or 6.\n",
        "\n",
        "num = int(input(\"Enter a number: \"))   # input number\n",
        "if num % 4 == 0 or num % 6 == 0:       # check divisibility\n",
        "    print(\"Divisible by 4 or 6\")\n",
        "else:\n",
        "    print(\"NOT Divisible by 4 or 6\")"
      ],
      "metadata": {
        "colab": {
          "base_uri": "https://localhost:8080/",
          "height": 0
        },
        "id": "mcUWUNvhaGvV",
        "outputId": "d4299901-11f2-4bab-d074-531355ad7e9f"
      },
      "execution_count": 41,
      "outputs": [
        {
          "output_type": "stream",
          "name": "stdout",
          "text": [
            "Enter a number: 24\n",
            "Divisible by 4 or 6\n"
          ]
        }
      ]
    },
    {
      "cell_type": "code",
      "source": [
        "# 28. Print numbers divisible by 7 but not by 5 in a given range.\n",
        "\n",
        "start = int(input(\"Enter start: \"))    # range start\n",
        "end = int(input(\"Enter end: \"))        # range end\n",
        "for i in range(start, end+1):\n",
        "    if i % 7 == 0 and i % 5 != 0:      # condition\n",
        "        print(i, end=\" \")"
      ],
      "metadata": {
        "colab": {
          "base_uri": "https://localhost:8080/",
          "height": 0
        },
        "id": "9UMRtb35ate-",
        "outputId": "c23bc717-14b3-4711-a00d-e19cd3356e6f"
      },
      "execution_count": 42,
      "outputs": [
        {
          "output_type": "stream",
          "name": "stdout",
          "text": [
            "Enter start: 1\n",
            "Enter end: 100\n",
            "7 14 21 28 42 49 56 63 77 84 91 98 "
          ]
        }
      ]
    },
    {
      "cell_type": "code",
      "source": [
        "# 29. Evaluate a mathematical expression entered as a string.\n",
        "\n",
        "exp = input(\"Enter a mathematical expression: \")  # input string expression\n",
        "print(\"Result= \", eval(exp))                      # eval() evaluates it"
      ],
      "metadata": {
        "colab": {
          "base_uri": "https://localhost:8080/",
          "height": 0
        },
        "id": "sb_Bmp7DbBp1",
        "outputId": "0d9d24e3-69c4-4382-8eba-2c7cadd0bdea"
      },
      "execution_count": 45,
      "outputs": [
        {
          "output_type": "stream",
          "name": "stdout",
          "text": [
            "Enter a mathematical expression: a-b\n",
            "Result=  220.0\n"
          ]
        }
      ]
    },
    {
      "cell_type": "code",
      "source": [
        "# 30. Convert kilometers to miles and vice versa.\n",
        "\n",
        "km = float(input(\"Enter kilometers: \"))   # input km\n",
        "miles = km * 0.621371                     # convert km to miles\n",
        "print(\"Miles:\", miles)\n",
        "m = float(input(\"Enter miles: \"))         # input miles\n",
        "km = m / 0.621371                         # convert miles to km\n",
        "print(\"Kilometers:\", km)"
      ],
      "metadata": {
        "colab": {
          "base_uri": "https://localhost:8080/",
          "height": 0
        },
        "id": "9JO_Gvo5bpTX",
        "outputId": "1b83be8c-734c-4421-d473-276a35248a2d"
      },
      "execution_count": 46,
      "outputs": [
        {
          "output_type": "stream",
          "name": "stdout",
          "text": [
            "Enter kilometers: 20\n",
            "Miles: 12.42742\n",
            "Enter miles: 60\n",
            "Kilometers: 96.5606698735538\n"
          ]
        }
      ]
    },
    {
      "cell_type": "code",
      "source": [
        "# 31. Create a program to find the cube of a number.\n",
        "\n",
        "num = int(input(\"Enter a number: \"))    # taking user input\n",
        "print(\"Cube of\",num,\"=\", num** 3)       # raise to power 3"
      ],
      "metadata": {
        "colab": {
          "base_uri": "https://localhost:8080/",
          "height": 0
        },
        "id": "vTp_qmUIcAXl",
        "outputId": "6c777127-dc25-4930-d03d-57e6cc2566b2"
      },
      "execution_count": 47,
      "outputs": [
        {
          "output_type": "stream",
          "name": "stdout",
          "text": [
            "Enter a number: 15\n",
            "Cube of 15 = 3375\n"
          ]
        }
      ]
    },
    {
      "cell_type": "code",
      "source": [
        "# 32. Write a program to display your name 5 times using a loop.\n",
        "\n",
        "name = input(\"Enter your name: \")   # taking user input\n",
        "for i in range(5):                  # loop 5 times\n",
        "    print(name)"
      ],
      "metadata": {
        "colab": {
          "base_uri": "https://localhost:8080/",
          "height": 0
        },
        "id": "wOyPVfTicaFu",
        "outputId": "9ad6e35c-88da-4ac6-e3e8-73336bddedac"
      },
      "execution_count": 48,
      "outputs": [
        {
          "output_type": "stream",
          "name": "stdout",
          "text": [
            "Enter your name: Diksha\n",
            "Diksha\n",
            "Diksha\n",
            "Diksha\n",
            "Diksha\n",
            "Diksha\n"
          ]
        }
      ]
    }
  ]
}