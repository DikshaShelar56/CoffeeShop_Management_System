{
  "nbformat": 4,
  "nbformat_minor": 0,
  "metadata": {
    "colab": {
      "provenance": [],
      "authorship_tag": "ABX9TyNJLvb949SGotxQLfNxwDKy",
      "include_colab_link": true
    },
    "kernelspec": {
      "name": "python3",
      "display_name": "Python 3"
    },
    "language_info": {
      "name": "python"
    }
  },
  "cells": [
    {
      "cell_type": "markdown",
      "metadata": {
        "id": "view-in-github",
        "colab_type": "text"
      },
      "source": [
        "<a href=\"https://colab.research.google.com/github/DikshaShelar56/CoffeeShop_Management_System/blob/main/Week_3_D4_DikshaShelar_DSE.ipynb\" target=\"_parent\"><img src=\"https://colab.research.google.com/assets/colab-badge.svg\" alt=\"Open In Colab\"/></a>"
      ]
    },
    {
      "cell_type": "code",
      "execution_count": 1,
      "metadata": {
        "colab": {
          "base_uri": "https://localhost:8080/"
        },
        "id": "gUOY2hOXl1T_",
        "outputId": "83f2dfd0-290a-4b60-fb8b-aa013204226a"
      },
      "outputs": [
        {
          "output_type": "stream",
          "name": "stdout",
          "text": [
            "How many numbers? 5\n",
            "Enter number: 1\n",
            "Enter number: 2\n",
            "Enter number: 3\n",
            "Enter number: 4\n",
            "Enter number: 5\n",
            "Numbers: [1, 2, 3, 4, 5]\n",
            "Sum = 15\n",
            "Average = 3.0\n",
            "Product = 120\n"
          ]
        }
      ],
      "source": [
        "# 1. Create a list of integers and compute the sum, average, and product.\n",
        "\n",
        "n = int(input(\"How many numbers? \"))\n",
        "nums = []\n",
        "for i in range(n):\n",
        "    nums.append(int(input(\"Enter number: \")))\n",
        "\n",
        "total = sum(nums)        # sum using built-in\n",
        "avg = total / len(nums)\n",
        "prod = 1\n",
        "for x in nums:           # loop to multiply\n",
        "    prod *= x\n",
        "\n",
        "print(\"Numbers:\", nums)\n",
        "print(\"Sum =\", total)\n",
        "print(\"Average =\", avg)\n",
        "print(\"Product =\", prod)"
      ]
    },
    {
      "cell_type": "code",
      "source": [
        "# 2. Write a program to find the maximum and minimum elements in a list.\n",
        "\n",
        "n = int(input(\"How many numbers? \"))\n",
        "nums = []\n",
        "for i in range(n):\n",
        "    nums.append(int(input(\"Enter number: \")))\n",
        "print(\"Maximum:\", max(nums))           # built-in max\n",
        "print(\"Minimum:\", min(nums))           # built-in min"
      ],
      "metadata": {
        "colab": {
          "base_uri": "https://localhost:8080/"
        },
        "id": "deAerq0aoud4",
        "outputId": "a74b6d19-467a-408a-8380-13fa7779b586"
      },
      "execution_count": 3,
      "outputs": [
        {
          "output_type": "stream",
          "name": "stdout",
          "text": [
            "How many numbers? 6\n",
            "Enter number: 12\n",
            "Enter number: 45\n",
            "Enter number: 98\n",
            "Enter number: 100\n",
            "Enter number: 0\n",
            "Enter number: 365\n",
            "Maximum: 365\n",
            "Minimum: 0\n"
          ]
        }
      ]
    },
    {
      "cell_type": "code",
      "source": [
        "# 3. Remove duplicates from a list using a set.\n",
        "\n",
        "n = int(input(\"How many numbers? \"))\n",
        "nums = []\n",
        "for i in range(n):\n",
        "    nums.append(int(input(\"Enter number: \")))\n",
        "unique = list(set(nums))               # convert to set then list\n",
        "print(\"List without duplicates:\", unique)"
      ],
      "metadata": {
        "colab": {
          "base_uri": "https://localhost:8080/"
        },
        "id": "pL6hd9UNpANg",
        "outputId": "b629ca4e-b7eb-431e-c73b-d99d12b77d07"
      },
      "execution_count": 4,
      "outputs": [
        {
          "output_type": "stream",
          "name": "stdout",
          "text": [
            "How many numbers? 3\n",
            "Enter number: 8\n",
            "Enter number: 6\n",
            "Enter number: 6\n",
            "List without duplicates: [8, 6]\n"
          ]
        }
      ]
    },
    {
      "cell_type": "code",
      "source": [
        "# 4. Create a tuple and demonstrate slicing and indexing.\n",
        "\n",
        "t = tuple(input(\"Enter elements separated (no spaces): \"))  # make a tuple\n",
        "print(\"Tuple:\", t)\n",
        "print(\"First element:\", t[0])          # indexing\n",
        "print(\"Last element:\", t[-1])          # negative indexing\n",
        "print(\"Slice [1:4]:\", t[1:4])          # slicing"
      ],
      "metadata": {
        "colab": {
          "base_uri": "https://localhost:8080/"
        },
        "id": "5iwaODlqpTvx",
        "outputId": "d94f3b33-0f12-4193-c80f-d1459ea143bc"
      },
      "execution_count": 1,
      "outputs": [
        {
          "output_type": "stream",
          "name": "stdout",
          "text": [
            "Enter elements separated (no spaces): hello\n",
            "Tuple: ('h', 'e', 'l', 'l', 'o')\n",
            "First element: h\n",
            "Last element: o\n",
            "Slice [1:4]: ('e', 'l', 'l')\n"
          ]
        }
      ]
    },
    {
      "cell_type": "code",
      "source": [
        "# 5. Write a program to convert a list to a tuple and vice versa.\n",
        "\n",
        "n = int(input(\"How many numbers? \"))\n",
        "nums = []\n",
        "for i in range(n):\n",
        "    nums.append(int(input(\"Enter number: \")))\n",
        "t = tuple(nums)                        # list into tuple\n",
        "l = list(t)                            # tuple into list\n",
        "print(\"Tuple:\", t)\n",
        "print(\"List:\", l)"
      ],
      "metadata": {
        "colab": {
          "base_uri": "https://localhost:8080/"
        },
        "id": "a1QpD7-GqA4X",
        "outputId": "51fb1f23-f87c-4e68-8636-36e9398d6272"
      },
      "execution_count": 3,
      "outputs": [
        {
          "output_type": "stream",
          "name": "stdout",
          "text": [
            "How many numbers? 3\n",
            "Enter number: 65\n",
            "Enter number: 56\n",
            "Enter number: 2\n",
            "Tuple: (65, 56, 2)\n",
            "List: [65, 56, 2]\n"
          ]
        }
      ]
    },
    {
      "cell_type": "code",
      "source": [
        "# 6. Merge two lists into one without using +.\n",
        "\n",
        "n1 = int(input(\"How many in first list? \"))\n",
        "list1 = []\n",
        "for i in range(n1):\n",
        "    list1.append(int(input(\"Enter number: \")))\n",
        "n2 = int(input(\"How many in second list? \"))\n",
        "list2 = []\n",
        "for i in range(n2):\n",
        "    list2.append(int(input(\"Enter number: \")))\n",
        "list1.extend(list2)                    # extend method merges the lists\n",
        "print(\"Merged list:\", list1)"
      ],
      "metadata": {
        "colab": {
          "base_uri": "https://localhost:8080/"
        },
        "id": "zd8W9XtHqjxQ",
        "outputId": "1e70b6f4-bb44-47dd-f883-0e79f3a0d630"
      },
      "execution_count": 5,
      "outputs": [
        {
          "output_type": "stream",
          "name": "stdout",
          "text": [
            "How many in first list? 2\n",
            "Enter number: 20\n",
            "Enter number: 30\n",
            "How many in second list? 4\n",
            "Enter number: 400\n",
            "Enter number: 500\n",
            "Enter number: 600\n",
            "Enter number: 700\n",
            "Merged list: [20, 30, 400, 500, 600, 700]\n"
          ]
        }
      ]
    },
    {
      "cell_type": "code",
      "source": [
        "# 7. Find the intersection and union of two sets.\n",
        "\n",
        "a = set(input(\"Enter first set elements without space: \"))   # make set\n",
        "b = set(input(\"Enter second set elements without space: \"))\n",
        "print(\"Union:\", a | b)                 # union using | operator\n",
        "print(\"Intersection:\", a & b)          # intersection using & operator"
      ],
      "metadata": {
        "colab": {
          "base_uri": "https://localhost:8080/"
        },
        "id": "VYzFXJkRq-IP",
        "outputId": "13ae1d0d-2e0c-4bd3-daca-0f4101ab9c6b"
      },
      "execution_count": 7,
      "outputs": [
        {
          "output_type": "stream",
          "name": "stdout",
          "text": [
            "Enter first set elements without space: 12345\n",
            "Enter second set elements without space: 56789\n",
            "Union: {'7', '1', '5', '2', '8', '9', '3', '6', '4'}\n",
            "Intersection: {'5'}\n"
          ]
        }
      ]
    },
    {
      "cell_type": "code",
      "source": [
        "# 8. Create a dictionary to store names and ages, then display them.\n",
        "\n",
        "n = int(input(\"How many people? \"))\n",
        "people = {}                            # empty dictionary\n",
        "for i in range(n):\n",
        "    name = input(\"Enter name: \")\n",
        "    age = int(input(\"Enter age: \"))\n",
        "    people[name] = age                 # store key:value\n",
        "print(\"Dictionary:\", people)\n",
        "for k, v in people.items():            # display each pair\n",
        "    print(k, \"is\", v, \"years old\")"
      ],
      "metadata": {
        "colab": {
          "base_uri": "https://localhost:8080/"
        },
        "id": "R6pQ-0EyrU61",
        "outputId": "d4745b0e-819a-47e2-9791-da3977b37e82"
      },
      "execution_count": 8,
      "outputs": [
        {
          "output_type": "stream",
          "name": "stdout",
          "text": [
            "How many people? 4\n",
            "Enter name: Dilip\n",
            "Enter age: 52\n",
            "Enter name: Dipti\n",
            "Enter age: 45\n",
            "Enter name: Pritee\n",
            "Enter age: 24\n",
            "Enter name: Diksha\n",
            "Enter age: 19\n",
            "Dictionary: {'Dilip': 52, 'Dipti': 45, 'Pritee': 24, 'Diksha': 19}\n",
            "Dilip is 52 years old\n",
            "Dipti is 45 years old\n",
            "Pritee is 24 years old\n",
            "Diksha is 19 years old\n"
          ]
        }
      ]
    },
    {
      "cell_type": "code",
      "source": [
        "# 9. Write a program to sort a list of tuples by the second element.\n",
        "\n",
        "n = int(input(\"Enter number of tuples: \"))\n",
        "tuples_list = []\n",
        "for i in range(n):\n",
        "    a = input(f\"Enter first element of tuple {i+1}: \")\n",
        "    b = int(input(f\"Enter second element of tuple {i+1}: \"))\n",
        "    tuples_list.append((a, b))   # Append tuple to list\n",
        "sorted_list = sorted(tuples_list, key=lambda x: x[1])   # Sort by second element\n",
        "print(\"Sorted list of tuples:\", sorted_list)"
      ],
      "metadata": {
        "colab": {
          "base_uri": "https://localhost:8080/"
        },
        "id": "kcQkR03irqAw",
        "outputId": "abcf86d7-7c2c-4942-bc67-c8e1a1d9d638"
      },
      "execution_count": 10,
      "outputs": [
        {
          "output_type": "stream",
          "name": "stdout",
          "text": [
            "Enter number of tuples: 2\n",
            "Enter first element of tuple 1: 100\n",
            "Enter second element of tuple 1: 200\n",
            "Enter first element of tuple 2: 300\n",
            "Enter second element of tuple 2: 400\n",
            "Sorted list of tuples: [('100', 200), ('300', 400)]\n"
          ]
        }
      ]
    },
    {
      "cell_type": "code",
      "source": [
        "# 10. Count occurrences of each element in a list using a dictionary.\n",
        "\n",
        "elements = input(\"Enter elements separated by space: \").split()\n",
        "count_dict = {}\n",
        "for item in elements:\n",
        "    count_dict[item] = count_dict.get(item, 0) + 1   # Count occurrences\n",
        "print(\"Occurrences:\", count_dict)"
      ],
      "metadata": {
        "colab": {
          "base_uri": "https://localhost:8080/"
        },
        "id": "ZOO6e2uCslCT",
        "outputId": "2f3b973c-cd46-4833-de5b-3597d9843ec2"
      },
      "execution_count": 12,
      "outputs": [
        {
          "output_type": "stream",
          "name": "stdout",
          "text": [
            "Enter elements separated by space: 1 2 3 4 5 5 4 3 2 1 1 7 5 7\n",
            "Occurrences: {'1': 3, '2': 2, '3': 2, '4': 2, '5': 3, '7': 2}\n"
          ]
        }
      ]
    },
    {
      "cell_type": "code",
      "source": [
        "# 11. Find the length of a set after adding and removing elements.\n",
        "\n",
        "nums = set(map(int, input(\"Enter numbers separated by space: \").split()))\n",
        "add_num = int(input(\"Enter number to add: \"))\n",
        "remove_num = int(input(\"Enter number to remove: \"))\n",
        "nums.add(add_num)           # Add element\n",
        "nums.discard(remove_num)    # Remove element\n",
        "print(\"Length of set:\", len(nums))"
      ],
      "metadata": {
        "colab": {
          "base_uri": "https://localhost:8080/"
        },
        "id": "HJILwWy9tCl3",
        "outputId": "144ccb2c-cc5f-4ab7-a59e-ac8a939c1b27"
      },
      "execution_count": 13,
      "outputs": [
        {
          "output_type": "stream",
          "name": "stdout",
          "text": [
            "Enter numbers separated by space: 20 30 40 50\n",
            "Enter number to add: 10\n",
            "Enter number to remove: 50\n",
            "Length of set: 4\n"
          ]
        }
      ]
    },
    {
      "cell_type": "code",
      "source": [
        "# 12. Create a nested dictionary for student marks in 3 subjects.\n",
        "\n",
        "students = {}\n",
        "n = int(input(\"Enter number of students: \"))\n",
        "for i in range(n):\n",
        "    name = input(f\"Enter name of student {i+1}: \")\n",
        "    marks = {}\n",
        "    for subject in [\"Math\", \"Science\", \"English\"]:\n",
        "        marks[subject] = int(input(f\"Enter {subject} marks: \"))\n",
        "    students[name] = marks\n",
        "print(\"Student Marks Dictionary:\", students)"
      ],
      "metadata": {
        "colab": {
          "base_uri": "https://localhost:8080/"
        },
        "id": "-bcOQi5DtW9u",
        "outputId": "ba52c1e3-f88e-4fe6-fc5b-0dcd05a01a01"
      },
      "execution_count": 14,
      "outputs": [
        {
          "output_type": "stream",
          "name": "stdout",
          "text": [
            "Enter number of students: 3\n",
            "Enter name of student 1: Diksha\n",
            "Enter Math marks: 95\n",
            "Enter Science marks: 98\n",
            "Enter English marks: 100\n",
            "Enter name of student 2: Shreya\n",
            "Enter Math marks: 96\n",
            "Enter Science marks: 94\n",
            "Enter English marks: 91\n",
            "Enter name of student 3: Amey\n",
            "Enter Math marks: 80\n",
            "Enter Science marks: 93\n",
            "Enter English marks: 89\n",
            "Student Marks Dictionary: {'Diksha': {'Math': 95, 'Science': 98, 'English': 100}, 'Shreya': {'Math': 96, 'Science': 94, 'English': 91}, 'Amey': {'Math': 80, 'Science': 93, 'English': 89}}\n"
          ]
        }
      ]
    },
    {
      "cell_type": "code",
      "source": [
        "# 13. Check if a key exists in a dictionary.\n",
        "\n",
        "d = {}\n",
        "n = int(input(\"Enter number of key-value pairs: \"))\n",
        "for i in range(n):\n",
        "    key = input(\"Enter key: \")\n",
        "    value = input(\"Enter value: \")\n",
        "    d[key] = value\n",
        "check_key = input(\"Enter key to check: \") # input key from user\n",
        "print(\"Key exists!\" if check_key in d else \"Key does not exist.\") # Check if key is present"
      ],
      "metadata": {
        "colab": {
          "base_uri": "https://localhost:8080/"
        },
        "id": "nQDyaCJltxjm",
        "outputId": "2e2b113d-3b8a-4bc3-85a7-ecbc43ca63c6"
      },
      "execution_count": 15,
      "outputs": [
        {
          "output_type": "stream",
          "name": "stdout",
          "text": [
            "Enter number of key-value pairs: 2\n",
            "Enter key: 1\n",
            "Enter value: one\n",
            "Enter key: 2\n",
            "Enter value: two\n",
            "Enter key to check: 3\n",
            "Key does not exist.\n"
          ]
        }
      ]
    },
    {
      "cell_type": "code",
      "source": [
        "# 14. Write a program to concatenate two dictionaries.\n",
        "\n",
        "d1 = {\"x\": 1, \"y\": 2}\n",
        "d2 = {\"a\": 3, \"b\": 4}\n",
        "d1.update(d2)  # In-built function Merge the dictionaries\n",
        "print(\"Concatenated dictionary:\", d1)"
      ],
      "metadata": {
        "colab": {
          "base_uri": "https://localhost:8080/"
        },
        "id": "1Net8xPlu6HN",
        "outputId": "11b4625a-9f16-48d1-d0c4-6096488ada77"
      },
      "execution_count": 18,
      "outputs": [
        {
          "output_type": "stream",
          "name": "stdout",
          "text": [
            "Concatenated dictionary: {'x': 1, 'y': 2, 'a': 3, 'b': 4}\n"
          ]
        }
      ]
    },
    {
      "cell_type": "code",
      "source": [
        "# 15. Create a list and remove all even numbers.\n",
        "\n",
        "lst = list(map(int, input(\"Enter numbers: \").split()))  # Input list\n",
        "lst = [x for x in lst if x % 2 != 0]      # Keep only odd numbers\n",
        "print(\"List without even numbers:\", lst)"
      ],
      "metadata": {
        "colab": {
          "base_uri": "https://localhost:8080/"
        },
        "id": "NtJzNaJcvhnG",
        "outputId": "def45542-2529-45f5-f5e9-783b02d29654"
      },
      "execution_count": 19,
      "outputs": [
        {
          "output_type": "stream",
          "name": "stdout",
          "text": [
            "Enter numbers: 1 2 3 4 5 6 7 8\n",
            "List without even numbers: [1, 3, 5, 7]\n"
          ]
        }
      ]
    },
    {
      "cell_type": "code",
      "source": [
        "# 16. Accept a list and print all elements greater than a given value.\n",
        "\n",
        "lst = list(map(int, input(\"Enter list elements: \").split()))  # Input list\n",
        "val = int(input(\"Enter value: \"))\n",
        "greater = [x for x in lst if x > val]  # Filter elements greater than value\n",
        "print(\"Elements greater than given value:\", greater)"
      ],
      "metadata": {
        "colab": {
          "base_uri": "https://localhost:8080/"
        },
        "id": "_e8fv8iAvvgv",
        "outputId": "1196e805-2019-4af0-8148-b18da0a21398"
      },
      "execution_count": 21,
      "outputs": [
        {
          "output_type": "stream",
          "name": "stdout",
          "text": [
            "Enter list elements: 123 456 789\n",
            "Enter value: 456\n",
            "Elements greater than given value: [789]\n"
          ]
        }
      ]
    },
    {
      "cell_type": "code",
      "source": [
        "# 17. Convert a string into a set of characters.\n",
        "\n",
        "s = input(\"Enter a string: \")  # Input string\n",
        "char_set = set(s)  # Convert into set of unique characters\n",
        "print(\"Set of characters:\", char_set)"
      ],
      "metadata": {
        "colab": {
          "base_uri": "https://localhost:8080/"
        },
        "id": "RlL-IP_jwHpd",
        "outputId": "47ed3993-6329-416d-8956-d0850144338a"
      },
      "execution_count": 23,
      "outputs": [
        {
          "output_type": "stream",
          "name": "stdout",
          "text": [
            "Enter a string: diksha\n",
            "Set of characters: {'s', 'h', 'k', 'd', 'a', 'i'}\n"
          ]
        }
      ]
    },
    {
      "cell_type": "code",
      "source": [
        "# 18. Write a program to swap first and last elements of a list.\n",
        "\n",
        "lst = list(map(int, input(\"Enter list elements: \").split()))  # Input list\n",
        "lst[0], lst[-1] = lst[-1], lst[0]  # Swap first and last\n",
        "print(\"List after swapping:\", lst)"
      ],
      "metadata": {
        "colab": {
          "base_uri": "https://localhost:8080/"
        },
        "id": "LJ_esj5jwYwM",
        "outputId": "b0313099-370b-4ee2-999e-553ed5be005d"
      },
      "execution_count": 24,
      "outputs": [
        {
          "output_type": "stream",
          "name": "stdout",
          "text": [
            "Enter list elements: 23 45 67 10 3 8 123\n",
            "List after swapping: [123, 45, 67, 10, 3, 8, 23]\n"
          ]
        }
      ]
    },
    {
      "cell_type": "code",
      "source": [
        "# 19. Merge two dictionaries, giving priority to the second one’s keys.\n",
        "\n",
        "d1 = {\"a\": 1, \"b\": 2}\n",
        "d2 = {\"b\": 3, \"c\": 4}\n",
        "merged = {**d1, **d2}  # Merge with priority to d2\n",
        "print(\"Merged dictionary:\", merged)"
      ],
      "metadata": {
        "colab": {
          "base_uri": "https://localhost:8080/"
        },
        "id": "J4gXlLDUwpnc",
        "outputId": "f34e8c5a-57af-467f-fc4a-364186aba98e"
      },
      "execution_count": 25,
      "outputs": [
        {
          "output_type": "stream",
          "name": "stdout",
          "text": [
            "Merged dictionary: {'a': 1, 'b': 3, 'c': 4}\n"
          ]
        }
      ]
    },
    {
      "cell_type": "code",
      "source": [
        "# 20. Create a tuple with numbers and find the index of a specific value.\n",
        "\n",
        "t = tuple(map(int, input(\"Enter tuple elements: \").split()))  # Input tuple\n",
        "val = int(input(\"Enter value to find index: \"))  # Input value\n",
        "print(\"Index of value:\", t.index(val))  # Print index"
      ],
      "metadata": {
        "colab": {
          "base_uri": "https://localhost:8080/"
        },
        "id": "b8RacBasw3yc",
        "outputId": "3687fa4f-2c73-4c70-980f-0b083ec031f3"
      },
      "execution_count": 26,
      "outputs": [
        {
          "output_type": "stream",
          "name": "stdout",
          "text": [
            "Enter tuple elements: 10 20 30 40\n",
            "Enter value to find index: 30\n",
            "Index of value: 2\n"
          ]
        }
      ]
    },
    {
      "cell_type": "code",
      "source": [
        "# 21. Write a program to reverse a list without using reverse().\n",
        "\n",
        "lst = list(map(int, input(\"Enter list elements: \").split()))  # Input list\n",
        "rev = lst[::-1]  # Reverse using slicing\n",
        "print(\"Reversed list:\", rev)"
      ],
      "metadata": {
        "colab": {
          "base_uri": "https://localhost:8080/"
        },
        "id": "oQlGuVwdxHiD",
        "outputId": "a29d6ba3-7340-4444-9e69-170f16e571f1"
      },
      "execution_count": 27,
      "outputs": [
        {
          "output_type": "stream",
          "name": "stdout",
          "text": [
            "Enter list elements: 10 20 30 40 50 60\n",
            "Reversed list: [60, 50, 40, 30, 20, 10]\n"
          ]
        }
      ]
    },
    {
      "cell_type": "code",
      "source": [
        "# 22. Accept two sets and print their symmetric difference.\n",
        "\n",
        "s1 = set(map(int, input(\"Enter first set elements: \").split()))\n",
        "s2 = set(map(int, input(\"Enter second set elements: \").split()))\n",
        "print(\"Symmetric difference:\", s1 ^ s2)  # The symmetric difference contains elements that are in either set"
      ],
      "metadata": {
        "colab": {
          "base_uri": "https://localhost:8080/"
        },
        "id": "UBCVM-X8xUva",
        "outputId": "7eb858e3-a585-4b40-e211-6ed0e4e00eea"
      },
      "execution_count": 28,
      "outputs": [
        {
          "output_type": "stream",
          "name": "stdout",
          "text": [
            "Enter first set elements: 1 2 3 4 5 6 7 8 9 \n",
            "Enter second set elements: 8 9 10 11 12 13 14\n",
            "Symmetric difference: {1, 2, 3, 4, 5, 6, 7, 10, 11, 12, 13, 14}\n"
          ]
        }
      ]
    },
    {
      "cell_type": "code",
      "source": [
        "# 23. Create a dictionary from two lists: one for keys, one for values.\n",
        "\n",
        "keys = input(\"Enter keys separated by space: \").split()  # Input list of keys\n",
        "values = input(\"Enter values separated by space: \").split()  # Input list of values\n",
        "d = dict(zip(keys, values))  # Pairs keys and values\n",
        "print(\"Created dictionary:\", d)"
      ],
      "metadata": {
        "colab": {
          "base_uri": "https://localhost:8080/"
        },
        "id": "SenTCAsOx1hi",
        "outputId": "70cdfb81-0319-4f86-c305-555b97248870"
      },
      "execution_count": 29,
      "outputs": [
        {
          "output_type": "stream",
          "name": "stdout",
          "text": [
            "Enter keys separated by space: one two three four five\n",
            "Enter values separated by space: 1 2 3 4 5\n",
            "Created dictionary: {'one': '1', 'two': '2', 'three': '3', 'four': '4', 'five': '5'}\n"
          ]
        }
      ]
    },
    {
      "cell_type": "code",
      "source": [
        "# 24. Remove a random element from a set.\n",
        "\n",
        "import random  # Import random module\n",
        "s = set(map(int, input(\"Enter set elements: \").split()))  # Input set\n",
        "removed = s.pop()  # Remove a random element\n",
        "print(\"Removed element:\", removed)  # Print removed element\n",
        "print(\"Remaining set:\", s)"
      ],
      "metadata": {
        "colab": {
          "base_uri": "https://localhost:8080/"
        },
        "id": "AIy5S4uDyNTk",
        "outputId": "390b6c2b-0929-4796-eb41-cd05a5fc1763"
      },
      "execution_count": 31,
      "outputs": [
        {
          "output_type": "stream",
          "name": "stdout",
          "text": [
            "Enter set elements: 1 2 3 4\n",
            "Removed element: 1\n",
            "Remaining set: {2, 3, 4}\n"
          ]
        }
      ]
    },
    {
      "cell_type": "code",
      "source": [
        "# 25. Write a program to clear all elements from a list.\n",
        "\n",
        "lst = list(map(int, input(\"Enter list elements: \").split()))  # Input list\n",
        "lst.clear()  # Clear list\n",
        "print(\"Cleared list:\", lst)  # Print result (empty list)"
      ],
      "metadata": {
        "colab": {
          "base_uri": "https://localhost:8080/"
        },
        "id": "bw5O5EbNyg7B",
        "outputId": "98ecf2be-92d6-45d7-8ae6-28bf9d010ab3"
      },
      "execution_count": 32,
      "outputs": [
        {
          "output_type": "stream",
          "name": "stdout",
          "text": [
            "Enter list elements: 10 20 30 40 50 60\n",
            "Cleared list: []\n"
          ]
        }
      ]
    },
    {
      "cell_type": "code",
      "source": [
        "# 26. Create a list of squares of numbers 1–10 using list comprehension.\n",
        "\n",
        "squares = [x**2 for x in range(1, 11)]  # Create list of squares\n",
        "print(\"Squares from 1–10:\", squares)"
      ],
      "metadata": {
        "colab": {
          "base_uri": "https://localhost:8080/"
        },
        "id": "GHA6fTzpyqnn",
        "outputId": "55c4fbe3-9852-48a2-b7c6-8e609e3249c7"
      },
      "execution_count": 33,
      "outputs": [
        {
          "output_type": "stream",
          "name": "stdout",
          "text": [
            "Squares from 1–10: [1, 4, 9, 16, 25, 36, 49, 64, 81, 100]\n"
          ]
        }
      ]
    },
    {
      "cell_type": "code",
      "source": [
        "# 27. Filter out all None values from a list.\n",
        "\n",
        "lst = [1, None, 2, None, 3]  # Example list\n",
        "filtered = [x for x in lst if x is not None]  # Remove None values\n",
        "print(\"List without None:\", filtered)  # Print result"
      ],
      "metadata": {
        "colab": {
          "base_uri": "https://localhost:8080/"
        },
        "id": "gCj6Rs1wy18i",
        "outputId": "6e1233ee-4159-4463-f88e-a873b5c0e53f"
      },
      "execution_count": 34,
      "outputs": [
        {
          "output_type": "stream",
          "name": "stdout",
          "text": [
            "List without None: [1, 2, 3]\n"
          ]
        }
      ]
    },
    {
      "cell_type": "code",
      "source": [
        "# 28. Accept a list and print elements at even indices.\n",
        "\n",
        "lst = list(map(int, input(\"Enter list elements: \").split()))  # Input list\n",
        "even_index_elements = [lst[i] for i in range(0, len(lst), 2)]  # Elements at even indices\n",
        "print(\"Elements at even indices:\", even_index_elements)"
      ],
      "metadata": {
        "colab": {
          "base_uri": "https://localhost:8080/"
        },
        "id": "doV3-vdjzEr0",
        "outputId": "2cb17bb1-0843-455f-d282-90ce6b1a2b99"
      },
      "execution_count": 35,
      "outputs": [
        {
          "output_type": "stream",
          "name": "stdout",
          "text": [
            "Enter list elements: 9 8 7 6 5 4 \n",
            "Elements at even indices: [9, 7, 5]\n"
          ]
        }
      ]
    },
    {
      "cell_type": "code",
      "source": [
        "# 29. Write a program to flatten a nested list.\n",
        "\n",
        "nested = [[1, 2], [3, 4], [5, 6]]  # Example nested list\n",
        "flat = [item for sublist in nested for item in sublist]  # Flatten the nested list into a single list\n",
        "print(\"Flattened list:\", flat)"
      ],
      "metadata": {
        "colab": {
          "base_uri": "https://localhost:8080/"
        },
        "id": "_dvukG0FzQLj",
        "outputId": "4e662787-4f28-4a72-8a9f-8b812ef233c1"
      },
      "execution_count": 36,
      "outputs": [
        {
          "output_type": "stream",
          "name": "stdout",
          "text": [
            "Flattened list: [1, 2, 3, 4, 5, 6]\n"
          ]
        }
      ]
    },
    {
      "cell_type": "code",
      "source": [
        "# 30. Find all keys in a dictionary whose values are greater than 50.\n",
        "\n",
        "d = {\"a\": 40, \"b\": 60, \"c\": 70}  # Example dictionary\n",
        "keys = [k for k, v in d.items() if v > 50]  # Filter keys\n",
        "print(\"Keys with values > 50:\", keys)"
      ],
      "metadata": {
        "colab": {
          "base_uri": "https://localhost:8080/"
        },
        "id": "pwKMasT8zi5J",
        "outputId": "139e04b1-a598-4412-a377-01f443d94679"
      },
      "execution_count": 37,
      "outputs": [
        {
          "output_type": "stream",
          "name": "stdout",
          "text": [
            "Keys with values > 50: ['b', 'c']\n"
          ]
        }
      ]
    },
    {
      "cell_type": "code",
      "source": [
        "# 31. Check if two lists are equal.\n",
        "\n",
        "lst1 = list(map(int, input(\"Enter first list: \").split()))\n",
        "lst2 = list(map(int, input(\"Enter second list: \").split()))\n",
        "if lst1 == lst2:  # Compare both\n",
        "    print(\"Lists are equal\")  # If equal\n",
        "else:\n",
        "    print(\"Lists are not equal\")  # If not equal"
      ],
      "metadata": {
        "colab": {
          "base_uri": "https://localhost:8080/"
        },
        "id": "7yMzHGRdz6aH",
        "outputId": "f3ae8add-7b93-4c5d-f678-9f96563db540"
      },
      "execution_count": 38,
      "outputs": [
        {
          "output_type": "stream",
          "name": "stdout",
          "text": [
            "Enter first list: 10 20 30 40 50 \n",
            "Enter second list: 10 20 30 40 50\n",
            "Lists are equal\n"
          ]
        }
      ]
    },
    {
      "cell_type": "code",
      "source": [
        "# 32. Create a program to convert a dictionary to a list of tuples.\n",
        "\n",
        "d = {}\n",
        "n = int(input(\"Enter number of key-value pairs: \"))\n",
        "for i in range(n):\n",
        "    k = input(\"Enter key: \")\n",
        "    v = input(\"Enter value: \")\n",
        "    d[k] = v\n",
        "tuple_list = list(d.items())  # Convert dict to list of tuples\n",
        "print(\"List of tuples:\", tuple_list)"
      ],
      "metadata": {
        "colab": {
          "base_uri": "https://localhost:8080/"
        },
        "id": "HRveu-8b0GJC",
        "outputId": "dd22dcba-94b1-4b31-be8b-16856e123951"
      },
      "execution_count": 40,
      "outputs": [
        {
          "output_type": "stream",
          "name": "stdout",
          "text": [
            "Enter number of key-value pairs: 4\n",
            "Enter key: 1\n",
            "Enter value: one\n",
            "Enter key: 2\n",
            "Enter value: two\n",
            "Enter key: 3\n",
            "Enter value: three\n",
            "Enter key: 4\n",
            "Enter value: four\n",
            "List of tuples: [('1', 'one'), ('2', 'two'), ('3', 'three'), ('4', 'four')]\n"
          ]
        }
      ]
    }
  ]
}