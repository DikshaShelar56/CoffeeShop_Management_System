{
  "nbformat": 4,
  "nbformat_minor": 0,
  "metadata": {
    "colab": {
      "provenance": [],
      "authorship_tag": "ABX9TyO9VsuQLFQYcXSVKR9oyZDe",
      "include_colab_link": true
    },
    "kernelspec": {
      "name": "python3",
      "display_name": "Python 3"
    },
    "language_info": {
      "name": "python"
    }
  },
  "cells": [
    {
      "cell_type": "markdown",
      "metadata": {
        "id": "view-in-github",
        "colab_type": "text"
      },
      "source": [
        "<a href=\"https://colab.research.google.com/github/DikshaShelar56/CoffeeShop_Management_System/blob/main/Week_2_D4_DikshaShelar_DSE.ipynb\" target=\"_parent\"><img src=\"https://colab.research.google.com/assets/colab-badge.svg\" alt=\"Open In Colab\"/></a>"
      ]
    },
    {
      "cell_type": "code",
      "execution_count": 19,
      "metadata": {
        "colab": {
          "base_uri": "https://localhost:8080/"
        },
        "id": "VOFY3_mpKjgX",
        "outputId": "b1669433-684d-48de-8b0b-a46e87994874"
      },
      "outputs": [
        {
          "output_type": "stream",
          "name": "stdout",
          "text": [
            "Enter a number: 7\n",
            "7 is a Prime NUmber\n"
          ]
        }
      ],
      "source": [
        "# 1. Write a function to check if a number is prime.\n",
        "\n",
        "def isPrime(n):\n",
        "    if n <= 1:  # 0 and 1 are not prime\n",
        "        return \"Not a Prime NUmber\"\n",
        "    for i in range(2, int(n**0.5) + 1):  # check divisibility up to sqrt\n",
        "        if n % i == 0:\n",
        "            return \"Not a Prime NUmber\"\n",
        "    return \"a Prime NUmber\"\n",
        "\n",
        "num = int(input(\"Enter a number: \"))\n",
        "print(num, \"is\", isPrime(num))"
      ]
    },
    {
      "cell_type": "code",
      "source": [
        "# 2. Create a function that returns the factorial of a number using a loop.\n",
        "\n",
        "def factorial(n):\n",
        "    result = 1\n",
        "    for i in range(1, n+1):  # loop from 1 to n\n",
        "        result *= i\n",
        "    return result\n",
        "\n",
        "num = int(input(\"Enter a number: \"))\n",
        "print(\"Factorial of\", num, \"is\", factorial(num))"
      ],
      "metadata": {
        "colab": {
          "base_uri": "https://localhost:8080/"
        },
        "id": "wOnoglv_M29s",
        "outputId": "4f51dae2-cf4e-4e79-c729-3785149197a1"
      },
      "execution_count": 3,
      "outputs": [
        {
          "output_type": "stream",
          "name": "stdout",
          "text": [
            "Enter a number: 5\n",
            "Factorial of 5 is 120\n"
          ]
        }
      ]
    },
    {
      "cell_type": "code",
      "source": [
        "# 3. Write a program to reverse a string using slicing.\n",
        "\n",
        "def reverseString(s):\n",
        "    return s[::-1]      # slicing to reverse\n",
        "\n",
        "string = input(\"Enter a string: \")\n",
        "print(\"Reversed string:\", reverseString(string))"
      ],
      "metadata": {
        "colab": {
          "base_uri": "https://localhost:8080/"
        },
        "id": "FbR0M9PVNCsh",
        "outputId": "f9552641-b3eb-4884-cceb-503880a31374"
      },
      "execution_count": 4,
      "outputs": [
        {
          "output_type": "stream",
          "name": "stdout",
          "text": [
            "Enter a string: hello\n",
            "Reversed string: olleh\n"
          ]
        }
      ]
    },
    {
      "cell_type": "code",
      "source": [
        "# 4. Count the number of vowels in a user-input string.\n",
        "\n",
        "def countVowels(s):\n",
        "    vowels = \"aeiouAEIOU\"\n",
        "    return sum(1 for ch in s if ch in vowels)\n",
        "\n",
        "string = input(\"Enter a string: \")\n",
        "print(\"Number of vowels =\", countVowels(string))"
      ],
      "metadata": {
        "colab": {
          "base_uri": "https://localhost:8080/"
        },
        "id": "33zHWZEtNPz7",
        "outputId": "07847feb-47ee-4cd3-9196-dd91d4796cd2"
      },
      "execution_count": 6,
      "outputs": [
        {
          "output_type": "stream",
          "name": "stdout",
          "text": [
            "Enter a string: Diksha Shelar\n",
            "Number of vowels = 4\n"
          ]
        }
      ]
    },
    {
      "cell_type": "code",
      "source": [
        "# 5. Check if a string is a palindrome using a function.\n",
        "\n",
        "def isPalindrome(s):\n",
        "    return s == s[::-1]  # compare string with reverse\n",
        "\n",
        "string = input(\"Enter a string: \")\n",
        "print(\"Is palindrome =\", isPalindrome(string))"
      ],
      "metadata": {
        "colab": {
          "base_uri": "https://localhost:8080/"
        },
        "id": "cuqRhyw7OLmK",
        "outputId": "f2a3ccf2-940d-4c2d-be29-62b32654e255"
      },
      "execution_count": 12,
      "outputs": [
        {
          "output_type": "stream",
          "name": "stdout",
          "text": [
            "Enter a string: eye\n",
            "Is palindrome = True\n"
          ]
        }
      ]
    },
    {
      "cell_type": "code",
      "source": [
        "# 6. Create a function that finds the maximum of three numbers.\n",
        "\n",
        "def maxOfThree(a, b, c):\n",
        "    return max(a, b, c)     # use built-in max()\n",
        "\n",
        "x = int(input(\"Enter first number: \"))\n",
        "y = int(input(\"Enter second number: \"))\n",
        "z = int(input(\"Enter third number: \"))\n",
        "print(\"Maximum number is:\", maxOfThree(x, y, z))"
      ],
      "metadata": {
        "colab": {
          "base_uri": "https://localhost:8080/"
        },
        "id": "klY-BxoEOvQA",
        "outputId": "178d1c8e-4468-497d-a51a-6339822b141e"
      },
      "execution_count": 13,
      "outputs": [
        {
          "output_type": "stream",
          "name": "stdout",
          "text": [
            "Enter first number: 1000000\n",
            "Enter second number: 86545954\n",
            "Enter third number: 154\n",
            "Maximum number is: 86545954\n"
          ]
        }
      ]
    },
    {
      "cell_type": "code",
      "source": [
        "# 7. Write a function to generate Fibonacci series up to n terms.\n",
        "\n",
        "def fibonacci(n):\n",
        "    seq = [0, 1]\n",
        "    while len(seq) < n:\n",
        "        seq.append(seq[-1] + seq[-2])  # add sum of last 2 terms\n",
        "    return seq[:n]\n",
        "\n",
        "num = int(input(\"Enter number of terms: \"))\n",
        "print(\"Fibonacci series:\", fibonacci(num))"
      ],
      "metadata": {
        "colab": {
          "base_uri": "https://localhost:8080/"
        },
        "id": "alQ9-DDUPKc5",
        "outputId": "5544cf1b-8b6d-4518-e90b-b59378286786"
      },
      "execution_count": 14,
      "outputs": [
        {
          "output_type": "stream",
          "name": "stdout",
          "text": [
            "Enter number of terms: 50\n",
            "Fibonacci series: [0, 1, 1, 2, 3, 5, 8, 13, 21, 34, 55, 89, 144, 233, 377, 610, 987, 1597, 2584, 4181, 6765, 10946, 17711, 28657, 46368, 75025, 121393, 196418, 317811, 514229, 832040, 1346269, 2178309, 3524578, 5702887, 9227465, 14930352, 24157817, 39088169, 63245986, 102334155, 165580141, 267914296, 433494437, 701408733, 1134903170, 1836311903, 2971215073, 4807526976, 7778742049]\n"
          ]
        }
      ]
    },
    {
      "cell_type": "code",
      "source": [
        "# 8. Use for loop to print a pyramid pattern using stars.\n",
        "\n",
        "def pyramid(n):\n",
        "    for i in range(1, n+1):\n",
        "        print(\" \"*(n-i) + \"*\"*(2*i-1))  # print spaces and stars\n",
        "\n",
        "rows = int(input(\"Enter number of rows: \"))\n",
        "print(pyramid(rows))"
      ],
      "metadata": {
        "colab": {
          "base_uri": "https://localhost:8080/"
        },
        "id": "fiaPqkKSPs9B",
        "outputId": "d20c37b8-7461-4668-b368-c7645b1294ad"
      },
      "execution_count": 20,
      "outputs": [
        {
          "output_type": "stream",
          "name": "stdout",
          "text": [
            "Enter number of rows: 10\n",
            "         *\n",
            "        ***\n",
            "       *****\n",
            "      *******\n",
            "     *********\n",
            "    ***********\n",
            "   *************\n",
            "  ***************\n",
            " *****************\n",
            "*******************\n",
            "None\n"
          ]
        }
      ]
    },
    {
      "cell_type": "code",
      "source": [
        "# 9. Create a menu-driven calculator using if-elif-else.\n",
        "\n",
        "def calculator():\n",
        "    a = float(input(\"Enter first number: \"))\n",
        "    b = float(input(\"Enter second number: \"))\n",
        "    op = input(\"Enter operator (+, -, *, /): \")\n",
        "\n",
        "    if op == '+':\n",
        "        print(\"Result:\", a + b)\n",
        "    elif op == '-':\n",
        "        print(\"Result:\", a - b)\n",
        "    elif op == '*':\n",
        "        print(\"Result:\", a * b)\n",
        "    elif op == '/':\n",
        "        if b != 0:                            # make sure not dividing by zero\n",
        "            print(\"Result:\", a / b)\n",
        "        else:\n",
        "            print(\"Error: Division by zero\")\n",
        "    else:\n",
        "        print(\"Invalid operator!\")\n",
        "\n",
        "# call the function\n",
        "calculator()"
      ],
      "metadata": {
        "colab": {
          "base_uri": "https://localhost:8080/"
        },
        "id": "ZcgZ4EwHWatV",
        "outputId": "8fbb9181-d084-46e9-b622-5878ef1b92ce"
      },
      "execution_count": 23,
      "outputs": [
        {
          "output_type": "stream",
          "name": "stdout",
          "text": [
            "Enter first number: 10\n",
            "Enter second number: 5\n",
            "Enter operator (+, -, *, /): -\n",
            "Result: 5.0\n"
          ]
        }
      ]
    },
    {
      "cell_type": "code",
      "source": [
        "# 10. Write a program to calculate the power of a number using a loop.\n",
        "\n",
        "def power():\n",
        "    base = int(input(\"Enter base: \"))\n",
        "    exp = int(input(\"Enter exponent: \"))\n",
        "    result = 1\n",
        "    for _ in range(exp):                       # repeat exp times\n",
        "        result *= base                         # multiply base each time\n",
        "    print(\"Power =\", result)\n",
        "power()"
      ],
      "metadata": {
        "colab": {
          "base_uri": "https://localhost:8080/"
        },
        "id": "y_SjlWdwWwvH",
        "outputId": "3ceca255-f1fc-41ac-b8c2-26052b3ae485"
      },
      "execution_count": 25,
      "outputs": [
        {
          "output_type": "stream",
          "name": "stdout",
          "text": [
            "Enter base: 5\n",
            "Enter exponent: 2\n",
            "Power = 25\n"
          ]
        }
      ]
    },
    {
      "cell_type": "code",
      "source": [
        "# 11. Accept a string and count how many uppercase and lowercase letters it has.\n",
        "\n",
        "def countUpperLowerCase():\n",
        "    s = input(\"Enter a string: \")\n",
        "    upper = sum(1 for ch in s if ch.isupper()) # count uppercase letters\n",
        "    lower = sum(1 for ch in s if ch.islower()) # count lowercase letters\n",
        "    print(\"Uppercase:\", upper, \"Lowercase:\", lower)\n",
        "countUpperLowerCase()"
      ],
      "metadata": {
        "colab": {
          "base_uri": "https://localhost:8080/"
        },
        "id": "OY1SD1eBXpSL",
        "outputId": "5fda4d47-eabb-401e-b401-44c20fcbb9e0"
      },
      "execution_count": 26,
      "outputs": [
        {
          "output_type": "stream",
          "name": "stdout",
          "text": [
            "Enter a string: Hello my name is Diksha Dilip Shelar\n",
            "Uppercase: 4 Lowercase: 26\n"
          ]
        }
      ]
    },
    {
      "cell_type": "code",
      "source": [
        "# 12. Find the sum of all even numbers in a given range.\n",
        "\n",
        "def sumEven():\n",
        "    start = int(input(\"Enter start: \"))\n",
        "    end = int(input(\"Enter end: \"))\n",
        "    total = sum(i for i in range(start, end+1) if i % 2 == 0) # sum evens\n",
        "    print(\"Sum of even numbers =\", total)\n",
        "sumEven()"
      ],
      "metadata": {
        "colab": {
          "base_uri": "https://localhost:8080/"
        },
        "id": "vDWaGHv8YQTC",
        "outputId": "ce570481-0e65-478b-9cbf-7a14ed325000"
      },
      "execution_count": 27,
      "outputs": [
        {
          "output_type": "stream",
          "name": "stdout",
          "text": [
            "Enter start: 1\n",
            "Enter end: 200\n",
            "Sum of even numbers = 10100\n"
          ]
        }
      ]
    },
    {
      "cell_type": "code",
      "source": [
        "# 13. Write a function to calculate the GCD of two numbers.\n",
        "\n",
        "def gcd():\n",
        "    a = int(input(\"Enter first number: \"))\n",
        "    b = int(input(\"Enter second number: \"))\n",
        "    while b != 0:\n",
        "      r = a % b        # Euclidean algorithm\n",
        "      a = b\n",
        "      b = r\n",
        "    print(\"GCD =\", a)\n",
        "gcd()"
      ],
      "metadata": {
        "colab": {
          "base_uri": "https://localhost:8080/"
        },
        "id": "TaU8xgWvaJu_",
        "outputId": "36ffefdd-d522-4bd1-bb6b-75e97da46dd8"
      },
      "execution_count": 28,
      "outputs": [
        {
          "output_type": "stream",
          "name": "stdout",
          "text": [
            "Enter first number: 8\n",
            "Enter second number: 4\n",
            "GCD = 4\n"
          ]
        }
      ]
    },
    {
      "cell_type": "code",
      "source": [
        "# 14. Create a function to check if a number is Armstrong.\n",
        "\n",
        "def armstrong():\n",
        "    n = int(input(\"Enter a number: \"))\n",
        "    temp = n\n",
        "    digits = len(str(n))                    # count digits\n",
        "    total = 0                               # sum of powered digits\n",
        "    for d in str(n):                        # go through each digit\n",
        "        total += int(d) ** digits           # add digit^power\n",
        "    if total == temp:                       # check match\n",
        "        print(n,\"is a Armstrong number\")\n",
        "    else:\n",
        "        print(n,\"is Not an Armstrong number\")\n",
        "armstrong()"
      ],
      "metadata": {
        "colab": {
          "base_uri": "https://localhost:8080/"
        },
        "id": "nu2bOZK4a97o",
        "outputId": "f3b210e1-bf30-4746-a343-8c5d8caa5b64"
      },
      "execution_count": 31,
      "outputs": [
        {
          "output_type": "stream",
          "name": "stdout",
          "text": [
            "Enter a number: 153\n",
            "153 is a Armstrong number\n"
          ]
        }
      ]
    },
    {
      "cell_type": "code",
      "source": [
        "# 15. Find and display all factors of a given number.\n",
        "\n",
        "def factors():\n",
        "    n = int(input(\"Enter a number: \"))\n",
        "    print(\"Factors are:\")\n",
        "    for i in range(1, n+1):\n",
        "        if n % i == 0:                      # check divisible\n",
        "            print(i, end=\" \")\n",
        "    print()\n",
        "factors()"
      ],
      "metadata": {
        "colab": {
          "base_uri": "https://localhost:8080/"
        },
        "id": "Timu8LuQboky",
        "outputId": "e6065f3a-71ab-4c30-fe70-7becbc056c15"
      },
      "execution_count": 33,
      "outputs": [
        {
          "output_type": "stream",
          "name": "stdout",
          "text": [
            "Enter a number: 60\n",
            "Factors are:\n",
            "1 2 3 4 5 6 10 12 15 20 30 60 \n"
          ]
        }
      ]
    },
    {
      "cell_type": "code",
      "source": [
        "# 16. Write a function to remove vowels from a string.\n",
        "\n",
        "def removeVowels():\n",
        "    s = input(\"Enter a string: \")\n",
        "    result = \"\"\n",
        "    for ch in s:                            # go through each char\n",
        "        if ch.lower() not in \"aeiou\":       # check not vowel\n",
        "            result += ch                    # add to result\n",
        "    print(\"Without vowels:\", result)\n",
        "removeVowels()"
      ],
      "metadata": {
        "colab": {
          "base_uri": "https://localhost:8080/"
        },
        "id": "wTI17SHZb8gB",
        "outputId": "abb4e3db-e125-47c6-f7c3-db84375c9225"
      },
      "execution_count": 34,
      "outputs": [
        {
          "output_type": "stream",
          "name": "stdout",
          "text": [
            "Enter a string: Diksha\n",
            "Without vowels: Dksh\n"
          ]
        }
      ]
    },
    {
      "cell_type": "code",
      "source": [
        "# 17. Use a loop to check whether a string contains any digits.\n",
        "\n",
        "def containsDigit():\n",
        "    s = input(\"Enter a string: \")\n",
        "    found = False                           # flag variable\n",
        "    for ch in s:\n",
        "        if ch.isdigit():                    # in-built function\n",
        "            found = True\n",
        "            break\n",
        "    if found:\n",
        "        print(\"String has digits\")\n",
        "    else:\n",
        "        print(\"No digits in string\")\n",
        "containsDigit()"
      ],
      "metadata": {
        "colab": {
          "base_uri": "https://localhost:8080/"
        },
        "id": "f2aP0AwVcOUR",
        "outputId": "1280acf4-c9b0-4efa-b947-b9358a4d264f"
      },
      "execution_count": 36,
      "outputs": [
        {
          "output_type": "stream",
          "name": "stdout",
          "text": [
            "Enter a string: Windows11\n",
            "String has digits\n"
          ]
        }
      ]
    },
    {
      "cell_type": "code",
      "source": [
        "# 18. Create a function that returns the sum of squares of first n natural numbers.\n",
        "\n",
        "def sumOfSquares():\n",
        "    n = int(input(\"Enter a number: \"))\n",
        "    total = 0\n",
        "    for i in range(1, n+1):\n",
        "        total += i*i                        # add square\n",
        "    print(\"Sum of squares =\", total)\n",
        "sumOfSquares()"
      ],
      "metadata": {
        "colab": {
          "base_uri": "https://localhost:8080/"
        },
        "id": "EuD8O8oadBRp",
        "outputId": "066e5ade-f47d-43f2-ba73-65164491e5a1"
      },
      "execution_count": 38,
      "outputs": [
        {
          "output_type": "stream",
          "name": "stdout",
          "text": [
            "Enter a number: 5\n",
            "Sum of squares = 55\n"
          ]
        }
      ]
    },
    {
      "cell_type": "code",
      "source": [
        "# 19. Take a number and determine if it's a perfect number.\n",
        "\n",
        "def perfectNumber():\n",
        "    n = int(input(\"Enter a number: \"))\n",
        "    total = 0\n",
        "    for i in range(1, n):\n",
        "        if n % i == 0:                      # check factor\n",
        "            total += i                      # add factor\n",
        "    if total == n:                          # compare sum\n",
        "        print(\"Perfect number\")\n",
        "    else:\n",
        "        print(\"Not a perfect number\")\n",
        "perfectNumber()"
      ],
      "metadata": {
        "colab": {
          "base_uri": "https://localhost:8080/"
        },
        "id": "8nXODMvRdgDf",
        "outputId": "c5db2620-053e-453c-8c00-458a924308b4"
      },
      "execution_count": 39,
      "outputs": [
        {
          "output_type": "stream",
          "name": "stdout",
          "text": [
            "Enter a number: 56\n",
            "Not a perfect number\n"
          ]
        }
      ]
    },
    {
      "cell_type": "code",
      "source": [
        "# 20. Write a function to count the number of words in a string.\n",
        "\n",
        "def wordCount():\n",
        "    s = input(\"Enter a sentence: \")\n",
        "    words = s.split()                       # split into words\n",
        "    print(\"Number of words:\", len(words))\n",
        "wordCount()"
      ],
      "metadata": {
        "colab": {
          "base_uri": "https://localhost:8080/"
        },
        "id": "QdwCNPpudx-o",
        "outputId": "a05f8db7-0fa8-493d-8f71-e1b79d8c0fc9"
      },
      "execution_count": 40,
      "outputs": [
        {
          "output_type": "stream",
          "name": "stdout",
          "text": [
            "Enter a sentence: Hello there I'm Diksha \n",
            "Number of words: 4\n"
          ]
        }
      ]
    },
    {
      "cell_type": "code",
      "source": [
        "# 21. Create a function to check if a string contains only alphabetic characters.\n",
        "\n",
        "def isAlphabetic():\n",
        "    str = input(\"Enter a string: \")\n",
        "    if str.isalpha():                         # check alphabets only\n",
        "        print(\"Alphabetic string\")\n",
        "    else:\n",
        "        print(\"Not alphabetic\")\n",
        "isAlphabetic()"
      ],
      "metadata": {
        "colab": {
          "base_uri": "https://localhost:8080/"
        },
        "id": "SgvuarRweSW4",
        "outputId": "6ff68b2a-4e95-4ebf-95cf-e4a61b9a0892"
      },
      "execution_count": 42,
      "outputs": [
        {
          "output_type": "stream",
          "name": "stdout",
          "text": [
            "Enter a string: My age is 19\n",
            "Not alphabetic\n"
          ]
        }
      ]
    },
    {
      "cell_type": "code",
      "source": [
        "# 22. Implement a simple password strength checker.\n",
        "\n",
        "def passwordStrength():\n",
        "    password = input(\"Enter password: \")\n",
        "    length = len(password)\n",
        "    has_upper = any(char.isupper() for char in password)\n",
        "    has_lower = any(char.islower() for char in password)\n",
        "    has_digit = any(char.isdigit() for char in password)\n",
        "    has_special = any(not char.isalnum() for char in password)\n",
        "\n",
        "    if length >= 8 and has_upper and has_lower and has_digit and has_special:\n",
        "        print(\"Strong password\")\n",
        "    else:\n",
        "        print(\"Weak password\")\n",
        "passwordStrength()"
      ],
      "metadata": {
        "colab": {
          "base_uri": "https://localhost:8080/"
        },
        "id": "pWhvMjnkeyix",
        "outputId": "5053eb5b-0c04-4715-a61b-01ac13c13aff"
      },
      "execution_count": 44,
      "outputs": [
        {
          "output_type": "stream",
          "name": "stdout",
          "text": [
            "Enter password: Diksha@10\n",
            "Strong password\n"
          ]
        }
      ]
    },
    {
      "cell_type": "code",
      "source": [
        "# 23. Write a function to replace all spaces in a string with underscores.\n",
        "\n",
        "def replaceSpaces():\n",
        "    s = input(\"Enter a sentence: \")\n",
        "    result = \"\"\n",
        "    for ch in s:\n",
        "        if ch == \" \":                       # check space\n",
        "            result += \"_\"                   # replace with _\n",
        "        else:\n",
        "            result += ch\n",
        "    print(\"Modified string:\", result)\n",
        "replaceSpaces()"
      ],
      "metadata": {
        "colab": {
          "base_uri": "https://localhost:8080/"
        },
        "id": "yW8ZZKzAfR_n",
        "outputId": "e7707a6b-0040-45d1-a7fd-c565edd1b5dd"
      },
      "execution_count": 47,
      "outputs": [
        {
          "output_type": "stream",
          "name": "stdout",
          "text": [
            "Enter a sentence: My name is Diksha Dilip Shelar and I live in Airoli\n",
            "Modified string: My_name_is_Diksha_Dilip_Shelar_and_I_live_in_Airoli\n"
          ]
        }
      ]
    },
    {
      "cell_type": "code",
      "source": [
        "# 24. Create a function to find the longest word in a string.\n",
        "\n",
        "def longestWord():\n",
        "    s = input(\"Enter a sentence: \")\n",
        "    words = s.split()                       # split into words\n",
        "    longest = \"\"\n",
        "    for w in words:\n",
        "        if len(w) > len(longest):\n",
        "            longest = w\n",
        "    print(\"Longest word:\", longest)\n",
        "longestWord()"
      ],
      "metadata": {
        "colab": {
          "base_uri": "https://localhost:8080/"
        },
        "id": "7hPc0b-6fz4P",
        "outputId": "38a19cf8-605e-4c64-8997-8decfc789850"
      },
      "execution_count": 48,
      "outputs": [
        {
          "output_type": "stream",
          "name": "stdout",
          "text": [
            "Enter a sentence: Thank yourself for how far you have come, It hasn't been Easy\n",
            "Longest word: yourself\n"
          ]
        }
      ]
    },
    {
      "cell_type": "code",
      "source": [
        "# 25. Accept a string and count the occurrence of each character.\n",
        "\n",
        "text = input(\"Enter a string: \")\n",
        "checked = \"\"\n",
        "print(\"Occurrence of each character:\")\n",
        "for ch in text:\n",
        "  if ch not in checked:\n",
        "    count = 0\n",
        "    for x in text:\n",
        "      if x == ch:\n",
        "        count += 1\n",
        "    print(ch, \":\", count)\n",
        "    checked += ch"
      ],
      "metadata": {
        "colab": {
          "base_uri": "https://localhost:8080/"
        },
        "id": "UiSJCzGTgtdf",
        "outputId": "5a585d04-ff75-468b-c899-b3faf5206aa1"
      },
      "execution_count": 49,
      "outputs": [
        {
          "output_type": "stream",
          "name": "stdout",
          "text": [
            "Enter a string: Occurrence\n",
            "Occurrence of each character:\n",
            "O : 1\n",
            "c : 3\n",
            "u : 1\n",
            "r : 2\n",
            "e : 2\n",
            "n : 1\n"
          ]
        }
      ]
    },
    {
      "cell_type": "code",
      "source": [
        "# 26. Use nested loops to print multiplication tables from 1 to 5.\n",
        "\n",
        "def multiplicationTables():\n",
        "    for i in range(1, 6):\n",
        "        for j in range(1, 11):              # multiply till 10\n",
        "            print(i, \"x\", j, \"=\", i*j)\n",
        "        print()\n",
        "multiplicationTables()"
      ],
      "metadata": {
        "colab": {
          "base_uri": "https://localhost:8080/"
        },
        "id": "QzcYMSzth-52",
        "outputId": "d92baf75-7ca7-42c4-f881-4fa947d23b2a"
      },
      "execution_count": 51,
      "outputs": [
        {
          "output_type": "stream",
          "name": "stdout",
          "text": [
            "1 x 1 = 1\n",
            "1 x 2 = 2\n",
            "1 x 3 = 3\n",
            "1 x 4 = 4\n",
            "1 x 5 = 5\n",
            "1 x 6 = 6\n",
            "1 x 7 = 7\n",
            "1 x 8 = 8\n",
            "1 x 9 = 9\n",
            "1 x 10 = 10\n",
            "\n",
            "2 x 1 = 2\n",
            "2 x 2 = 4\n",
            "2 x 3 = 6\n",
            "2 x 4 = 8\n",
            "2 x 5 = 10\n",
            "2 x 6 = 12\n",
            "2 x 7 = 14\n",
            "2 x 8 = 16\n",
            "2 x 9 = 18\n",
            "2 x 10 = 20\n",
            "\n",
            "3 x 1 = 3\n",
            "3 x 2 = 6\n",
            "3 x 3 = 9\n",
            "3 x 4 = 12\n",
            "3 x 5 = 15\n",
            "3 x 6 = 18\n",
            "3 x 7 = 21\n",
            "3 x 8 = 24\n",
            "3 x 9 = 27\n",
            "3 x 10 = 30\n",
            "\n",
            "4 x 1 = 4\n",
            "4 x 2 = 8\n",
            "4 x 3 = 12\n",
            "4 x 4 = 16\n",
            "4 x 5 = 20\n",
            "4 x 6 = 24\n",
            "4 x 7 = 28\n",
            "4 x 8 = 32\n",
            "4 x 9 = 36\n",
            "4 x 10 = 40\n",
            "\n",
            "5 x 1 = 5\n",
            "5 x 2 = 10\n",
            "5 x 3 = 15\n",
            "5 x 4 = 20\n",
            "5 x 5 = 25\n",
            "5 x 6 = 30\n",
            "5 x 7 = 35\n",
            "5 x 8 = 40\n",
            "5 x 9 = 45\n",
            "5 x 10 = 50\n",
            "\n"
          ]
        }
      ]
    },
    {
      "cell_type": "code",
      "source": [
        "# 27. Write a program to find the sum of digits in a string.\n",
        "\n",
        "def sumofDigits():\n",
        "    s = input(\"Enter a string: \")\n",
        "    total = 0\n",
        "    for ch in s:\n",
        "        if ch.isdigit():\n",
        "            total += int(ch)\n",
        "    print(\"Sum of digits =\", total)\n",
        "sumofDigits()"
      ],
      "metadata": {
        "colab": {
          "base_uri": "https://localhost:8080/"
        },
        "id": "GYZmGaS-iOem",
        "outputId": "0cb42e9a-d9da-49fb-c339-e24d4f0120ce"
      },
      "execution_count": 52,
      "outputs": [
        {
          "output_type": "stream",
          "name": "stdout",
          "text": [
            "Enter a string: my roll number is 2500782\n",
            "Sum of digits = 24\n"
          ]
        }
      ]
    },
    {
      "cell_type": "code",
      "source": [
        "# 28. Implement a function to convert binary to decimal.\n",
        "\n",
        "def binaryToDecimal():\n",
        "    binary = input(\"Enter a binary number: \")\n",
        "    decimal = 0\n",
        "    power = 0\n",
        "    for digit in binary[::-1]:               # reverse binary digits\n",
        "        decimal += int(digit) * 2 ** power   # add power of 2\n",
        "        power += 1                           # increase power\n",
        "    print(\"Decimal equivalent:\", decimal)\n",
        "binaryToDecimal()"
      ],
      "metadata": {
        "colab": {
          "base_uri": "https://localhost:8080/"
        },
        "id": "U6ME_bshipnM",
        "outputId": "68a7f630-fb5e-4210-e952-2eb39378d312"
      },
      "execution_count": 57,
      "outputs": [
        {
          "output_type": "stream",
          "name": "stdout",
          "text": [
            "Enter a binary number: 101\n",
            "Decimal equivalent: 5\n"
          ]
        }
      ]
    },
    {
      "cell_type": "code",
      "source": [
        "# 29. Write a function that prints all prime numbers between 50 and 100.\n",
        "\n",
        "def prime50to100():\n",
        "    for n in range(50, 101):\n",
        "        if n > 1:\n",
        "            prime = True\n",
        "            for i in range(2, int(n**0.5)+1): # check divisibility\n",
        "                if n % i == 0:\n",
        "                    prime = False\n",
        "                    break\n",
        "            if prime:\n",
        "                print(n, end=\" \")\n",
        "    print()\n",
        "prime50to100()"
      ],
      "metadata": {
        "colab": {
          "base_uri": "https://localhost:8080/"
        },
        "id": "ZFSnXXC5jXb-",
        "outputId": "bf6991c6-f70d-4dbb-c525-632292fade10"
      },
      "execution_count": 58,
      "outputs": [
        {
          "output_type": "stream",
          "name": "stdout",
          "text": [
            "53 59 61 67 71 73 79 83 89 97 \n"
          ]
        }
      ]
    },
    {
      "cell_type": "code",
      "source": [
        "# 30. Create a program to split a string and store words in a list.\n",
        "\n",
        "def splitString():\n",
        "    s = input(\"Enter a sentence: \")\n",
        "    words = []\n",
        "    words = s.split()\n",
        "    print(\"Words list:\", words)\n",
        "splitString()"
      ],
      "metadata": {
        "colab": {
          "base_uri": "https://localhost:8080/"
        },
        "id": "8-I-ax3sjlyv",
        "outputId": "7530a8a6-b3b7-458f-b44a-4fe06dbce6c9"
      },
      "execution_count": 60,
      "outputs": [
        {
          "output_type": "stream",
          "name": "stdout",
          "text": [
            "Enter a sentence: I am a Student\n",
            "Words list: ['I', 'am', 'a', 'Student']\n"
          ]
        }
      ]
    },
    {
      "cell_type": "code",
      "source": [
        "# 31. Accept a sentence and reverse the order of words.\n",
        "\n",
        "def reverseWords():\n",
        "    s = input(\"Enter a sentence: \")\n",
        "    words = s.split()                       # split into words\n",
        "    rev = []\n",
        "    for i in range(len(words)-1, -1, -1):   # loop backwards\n",
        "        rev.append(words[i])\n",
        "    print(\"Reversed words:\", \" \".join(rev))\n",
        "reverseWords()"
      ],
      "metadata": {
        "colab": {
          "base_uri": "https://localhost:8080/"
        },
        "id": "H48RBJNikdL8",
        "outputId": "6c927e6c-c0d1-4266-ffd7-9899f79af4ab"
      },
      "execution_count": 62,
      "outputs": [
        {
          "output_type": "stream",
          "name": "stdout",
          "text": [
            "Enter a sentence: My name is Diksha\n",
            "Reversed words: Diksha is name My\n"
          ]
        }
      ]
    },
    {
      "cell_type": "code",
      "source": [
        "# 32. Create a function that takes a string and returns its acronym.\n",
        "\n",
        "def acronym():\n",
        "    s = input(\"Enter a sentence: \")\n",
        "    words = s.split()                       # split into words\n",
        "    acro = \"\"\n",
        "    for w in words:\n",
        "        acro += w[0].upper()                # add first letter\n",
        "    print(\"Acronym:\", acro)\n",
        "acronym()"
      ],
      "metadata": {
        "colab": {
          "base_uri": "https://localhost:8080/"
        },
        "id": "OIsh2736lCZs",
        "outputId": "2038ba71-8273-48dd-e7f5-62521b448400"
      },
      "execution_count": 63,
      "outputs": [
        {
          "output_type": "stream",
          "name": "stdout",
          "text": [
            "Enter a sentence: This is my last string\n",
            "Acronym: TIMLS\n"
          ]
        }
      ]
    }
  ]
}